{
 "cells": [
  {
   "cell_type": "code",
   "execution_count": null,
   "metadata": {},
   "outputs": [],
   "source": [
    "1. In the below elements which of them are values or an expression? eg:- values can be\n",
    "integer or string and expressions will be mathematical operators.\n",
    "\n",
    "*       - expression\n",
    "'hello' - value\n",
    "-87.8   - value\n",
    "-       - expression\n",
    "/       - expression\n",
    "+       - expression\n",
    "6       - value"
   ]
  },
  {
   "cell_type": "code",
   "execution_count": null,
   "metadata": {},
   "outputs": [],
   "source": [
    "2. What is the difference between string and variable?\n",
    "\n",
    "-  String is a data type, for a sequence of characters whether it be letters, symbols or even numbers when used as characters.\n",
    "    Varibale is a reference of the memory location where any value is stored for further manipulation."
   ]
  },
  {
   "cell_type": "code",
   "execution_count": null,
   "metadata": {},
   "outputs": [],
   "source": [
    "3. Describe three different data types.\n",
    "\n",
    "-   a) Numeric data types - These are of 3 kinds in python namely - integer class int() for integers and non- decimal numbers , \n",
    "                            float class float() for decimal numbers\n",
    "                            complex class complex() for complex numbers\n",
    "        \n",
    "    b) Sequence data types - 3 kinds namely - string class str() for a collection of characters under quotes,\n",
    "                             list class list() for an ordered collection of items of same or different data types\n",
    "                             tuples class tuple() for an immutable but ordered collection of items\n",
    "            \n",
    "    c) Boolean  -            Boolean data types assess the truth or false of any statement by two built-in values -True and    False."
   ]
  },
  {
   "cell_type": "code",
   "execution_count": null,
   "metadata": {},
   "outputs": [],
   "source": [
    "4. What is an expression made up of? What do all expressions do?\n",
    "\n",
    "-  Expression is made up of operators and operands.\n",
    "    All expression evaluate themselves to produce an output or value."
   ]
  },
  {
   "cell_type": "code",
   "execution_count": null,
   "metadata": {},
   "outputs": [],
   "source": [
    "5. This assignment statements, like spam = 10. What is the difference between an\n",
    "expression and a statement?\n",
    "\n",
    "-  An expression whether it has one or multiple operand, must evaluate to produce a value. While a statement is only an instruction \n",
    "    to the computer to peform an action. That action might not result in an output."
   ]
  },
  {
   "cell_type": "code",
   "execution_count": null,
   "metadata": {},
   "outputs": [],
   "source": [
    "6. After running the following code, what does the variable bacon contain?\n",
    "bacon = 22\n",
    "bacon + 1\n",
    "\n",
    "- 23"
   ]
  },
  {
   "cell_type": "code",
   "execution_count": null,
   "metadata": {},
   "outputs": [],
   "source": [
    "7. What should the values of the following two terms be?\n",
    "\n",
    "'spam' + 'spamspam' - 'spamspamspam'\n",
    "\n",
    "'spam' * 3  -  'spamspamspam'"
   ]
  },
  {
   "cell_type": "code",
   "execution_count": null,
   "metadata": {},
   "outputs": [],
   "source": [
    "8. Why is eggs a valid variable name while 100 is invalid?\n",
    "\n",
    "- Because in python, variable names must start with a letter or an underscore, never a number. eggs starts with letter while 100 doesn't."
   ]
  },
  {
   "cell_type": "code",
   "execution_count": null,
   "metadata": {},
   "outputs": [],
   "source": [
    "9. What three functions can be used to get the integer, floating-point number, or string\n",
    "version of a value?\n",
    "\n",
    "- int() - for integer value\n",
    "  float() - for floating- point value\n",
    "  str() - for string value"
   ]
  },
  {
   "cell_type": "code",
   "execution_count": null,
   "metadata": {},
   "outputs": [],
   "source": [
    "10. Why does this expression cause an error? How can you fix it?\n",
    "'I have eaten ' + 99 + ' burritos.'\n",
    "\n",
    "- Because an integer cannot be concatenated with a string value.\n",
    "    To fix this convert 99 to string - 'I have eaten ' + str(99) + ' burritos.'\n",
    "    or put 99 into single quotes - 'I have eaten ' + '99' + ' burritos.'"
   ]
  },
  {
   "cell_type": "code",
   "execution_count": null,
   "metadata": {},
   "outputs": [],
   "source": []
  }
 ],
 "metadata": {
  "kernelspec": {
   "display_name": "Python 3",
   "language": "python",
   "name": "python3"
  },
  "language_info": {
   "codemirror_mode": {
    "name": "ipython",
    "version": 3
   },
   "file_extension": ".py",
   "mimetype": "text/x-python",
   "name": "python",
   "nbconvert_exporter": "python",
   "pygments_lexer": "ipython3",
   "version": "3.8.3"
  }
 },
 "nbformat": 4,
 "nbformat_minor": 4
}
